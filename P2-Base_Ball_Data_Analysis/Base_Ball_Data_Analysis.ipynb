{
 "cells": [
  {
   "cell_type": "markdown",
   "metadata": {
    "deletable": true,
    "editable": true
   },
   "source": [
    "# Baseball DAND Project:"
   ]
  },
  {
   "cell_type": "markdown",
   "metadata": {
    "deletable": true,
    "editable": true
   },
   "source": [
    "#### The Baseball Data Analysis project is done as part of the nano degree requirements at Udacity. This project is connected with the Introduction to Data Analysis course. This project covers all the steps invloved  in the Data Analysis Proccess. I have chosen the Baseball Data Set which is provided by Sean Lahman. This data set contains complete batting and pitching statistics from 1871 to 2016, plus fielding statistics, standings, team stats, managerial records, post-season data, and more."
   ]
  },
  {
   "cell_type": "markdown",
   "metadata": {
    "deletable": true,
    "editable": true
   },
   "source": [
    "I have identified different questions that can be answered using the Base ball data set. For each question, I will expalin how the different steps of Data Analysis are covered. "
   ]
  },
  {
   "cell_type": "markdown",
   "metadata": {
    "deletable": true,
    "editable": true
   },
   "source": [
    "### Question 1: From 2005-2016 in both the leagues list the player name who has ranked 1st in each of the batting metrics. "
   ]
  },
  {
   "cell_type": "markdown",
   "metadata": {
    "deletable": true,
    "editable": true
   },
   "source": [
    "I have framed the above question after acquring the data from http://www.baseball1.com website. I have gone through the data set and started off with this basic question. To answer this question we would mainly need the Batting.csv data set. As the data set conatins all the data from 1871 to 2016, we have to clean the data. "
   ]
  },
  {
   "cell_type": "code",
   "execution_count": 1,
   "metadata": {
    "collapsed": true,
    "deletable": true,
    "editable": true
   },
   "outputs": [],
   "source": [
    "# importing the necessary functions:\n",
    "import csv\n",
    "from datetime import datetime\n",
    "import numpy as np\n",
    "import pandas as pd\n",
    "import matplotlib.pyplot as plt\n",
    "import seaborn as sns"
   ]
  },
  {
   "cell_type": "markdown",
   "metadata": {
    "deletable": true,
    "editable": true
   },
   "source": [
    "### Cleaning the batting data set in such a way that it contains records only from 2005:"
   ]
  },
  {
   "cell_type": "code",
   "execution_count": 2,
   "metadata": {
    "collapsed": false,
    "deletable": true,
    "editable": true
   },
   "outputs": [
    {
     "name": "stdout",
     "output_type": "stream",
     "text": [
      "        playerID  yearID  stint teamID lgID    G   AB    R    H  2B  ...   \\\n",
      "85985  abernbr01    2005      1    MIN   AL   24   67    5   16   1  ...    \n",
      "85986  abreubo01    2005      1    PHI   NL  162  588  104  168  37  ...    \n",
      "85987  accarje01    2005      1    SFN   NL   28    2    0    1   0  ...    \n",
      "85988  acevejo01    2005      1    COL   NL   36    8    0    1   0  ...    \n",
      "85989  adamsmi03    2005      1    MIL   NL   13    0    0    0   0  ...    \n",
      "\n",
      "         RBI    SB   CS   BB     SO   IBB  HBP   SH   SF  GIDP  \n",
      "85985    6.0   2.0  0.0    7    9.0   0.0  1.0  3.0  1.0   2.0  \n",
      "85986  102.0  31.0  9.0  117  134.0  15.0  6.0  0.0  8.0   7.0  \n",
      "85987    0.0   0.0  0.0    0    0.0   0.0  0.0  0.0  0.0   0.0  \n",
      "85988    0.0   0.0  0.0    1    6.0   0.0  1.0  1.0  0.0   0.0  \n",
      "85989    0.0   0.0  0.0    0    0.0   0.0  0.0  0.0  0.0   0.0  \n",
      "\n",
      "[5 rows x 22 columns]\n"
     ]
    }
   ],
   "source": [
    "batting_df = pd.read_csv('Batting.csv')\n",
    "batting_df_clean = batting_df[batting_df['yearID']>=2005]\n",
    "# lets cross check the cleaned data\n",
    "print batting_df_clean.head()"
   ]
  },
  {
   "cell_type": "markdown",
   "metadata": {
    "deletable": true,
    "editable": true
   },
   "source": [
    "### As we are trying to find the name of the player who ranks first in each of the batting metrics we have to link the player Id and his name. This can be done by using merge on batting_df_clean data set and master_df data set."
   ]
  },
  {
   "cell_type": "code",
   "execution_count": 3,
   "metadata": {
    "collapsed": false,
    "deletable": true,
    "editable": true
   },
   "outputs": [
    {
     "name": "stdout",
     "output_type": "stream",
     "text": [
      "    playerID  yearID  stint teamID lgID    G   AB    R    H  2B    ...      \\\n",
      "0  abernbr01    2005      1    MIN   AL   24   67    5   16   1    ...       \n",
      "1  abreubo01    2005      1    PHI   NL  162  588  104  168  37    ...       \n",
      "2  abreubo01    2006      1    PHI   NL   98  339   61   94  25    ...       \n",
      "3  abreubo01    2006      2    NYA   AL   58  209   37   69  16    ...       \n",
      "4  abreubo01    2007      1    NYA   AL  158  605  123  171  40    ...       \n",
      "\n",
      "    CS   BB     SO   IBB  HBP   SH   SF  GIDP  nameFirst   nameLast  \n",
      "0  0.0    7    9.0   0.0  1.0  3.0  1.0   2.0      Brent  Abernathy  \n",
      "1  9.0  117  134.0  15.0  6.0  0.0  8.0   7.0      Bobby      Abreu  \n",
      "2  4.0   91   86.0   5.0  2.0  0.0  6.0   8.0      Bobby      Abreu  \n",
      "3  2.0   33   52.0   1.0  1.0  2.0  3.0   5.0      Bobby      Abreu  \n",
      "4  8.0   84  115.0   0.0  3.0  0.0  7.0  11.0      Bobby      Abreu  \n",
      "\n",
      "[5 rows x 24 columns]\n"
     ]
    }
   ],
   "source": [
    "# add_names() function takes in the batting and master tables and adds the corresponding player names to the batting csv\n",
    "master_df  = pd.read_csv('Master.csv')\n",
    "\n",
    "def add_names(batting,master_df):\n",
    "    return batting.merge(master_df[['playerID','nameFirst','nameLast']],on = 'playerID',how = 'inner')\n",
    "\n",
    "batting_df_clean = add_names(batting_df_clean,master_df)\n",
    "\n",
    "# lets see if the names are merged to batting_df_clean\n",
    "print batting_df_clean.head()"
   ]
  },
  {
   "cell_type": "code",
   "execution_count": 4,
   "metadata": {
    "collapsed": false,
    "deletable": true,
    "editable": true
   },
   "outputs": [
    {
     "name": "stdout",
     "output_type": "stream",
     "text": [
      "False\n"
     ]
    }
   ],
   "source": [
    "# lets check if any of the values in the batting_df_clean data set are having null values\n",
    "print batting_df_clean.isnull().values.any()"
   ]
  },
  {
   "cell_type": "markdown",
   "metadata": {
    "deletable": true,
    "editable": true
   },
   "source": [
    "Yay!! No null values :)"
   ]
  },
  {
   "cell_type": "code",
   "execution_count": 5,
   "metadata": {
    "collapsed": false,
    "deletable": true,
    "editable": true
   },
   "outputs": [
    {
     "name": "stdout",
     "output_type": "stream",
     "text": [
      "playerID      object\n",
      "yearID         int64\n",
      "stint          int64\n",
      "teamID        object\n",
      "lgID          object\n",
      "G              int64\n",
      "AB             int64\n",
      "R              int64\n",
      "H              int64\n",
      "2B             int64\n",
      "3B             int64\n",
      "HR             int64\n",
      "RBI          float64\n",
      "SB           float64\n",
      "CS           float64\n",
      "BB             int64\n",
      "SO           float64\n",
      "IBB          float64\n",
      "HBP          float64\n",
      "SH           float64\n",
      "SF           float64\n",
      "GIDP         float64\n",
      "nameFirst     object\n",
      "nameLast      object\n",
      "dtype: object\n"
     ]
    }
   ],
   "source": [
    "#Lets check the data type of each column\n",
    "print batting_df_clean.dtypes"
   ]
  },
  {
   "cell_type": "markdown",
   "metadata": {
    "deletable": true,
    "editable": true
   },
   "source": [
    "### Generic function to find the best player in each of the batting metric"
   ]
  },
  {
   "cell_type": "code",
   "execution_count": 6,
   "metadata": {
    "collapsed": false,
    "deletable": true,
    "editable": true
   },
   "outputs": [],
   "source": [
    "def find_best(grp,metric):\n",
    "    top = grp.sum()[metric].max()\n",
    "    for key,values in grp:\n",
    "        if grp.get_group(key).sum()[metric] == top:\n",
    "            index = values.index.tolist()\n",
    "            return values.loc[index[0]]['nameFirst']+\" \"+values.loc[index[0]]['nameLast']"
   ]
  },
  {
   "cell_type": "code",
   "execution_count": 7,
   "metadata": {
    "collapsed": false,
    "deletable": true,
    "editable": true
   },
   "outputs": [
    {
     "name": "stdout",
     "output_type": "stream",
     "text": [
      "Ichiro Suzuki played most number of GAMES between 2005-2016\n",
      "\n",
      "Miguel Cabrera has most number of RUNS betweeen 2005-2016\n",
      "\n",
      "Miguel Cabrera has most number of HITS during 2005-2016\n",
      "\n",
      "Robinson Cano has most number of DOUBLES during 2005-2016\n"
     ]
    }
   ],
   "source": [
    "grp = batting_df_clean.groupby(['playerID'],as_index=False)\n",
    "print  (find_best(grp,'G') + \" played most number of GAMES between 2005-2016\")\n",
    "print \n",
    "print (find_best(grp,'R')+ \" has most number of RUNS betweeen 2005-2016\")\n",
    "print\n",
    "print (find_best(grp,'H')+ \" has most number of HITS during 2005-2016\")\n",
    "print\n",
    "print (find_best(grp,'2B')+\" has most number of DOUBLES during 2005-2016\")"
   ]
  },
  {
   "cell_type": "code",
   "execution_count": 8,
   "metadata": {
    "collapsed": false,
    "deletable": true,
    "editable": true
   },
   "outputs": [
    {
     "name": "stdout",
     "output_type": "stream",
     "text": [
      "\n",
      "Jose Reyes has most number of TRIPLES during 2005-2016\n",
      "\n",
      "Albert Pujols has most number of HOME_RUNS during 2005-2016\n",
      "\n",
      "Miguel Cabrera has most number of RUNS_BATTED_IN during 2005-2016\n",
      "\n",
      "Jose Reyes has most number of STOLEN_BASES during 2005-2016\n"
     ]
    }
   ],
   "source": [
    "print\n",
    "print (find_best(grp,'3B')+\" has most number of TRIPLES during 2005-2016\")\n",
    "print\n",
    "print (find_best(grp,'HR')+\" has most number of HOME_RUNS during 2005-2016\")\n",
    "print\n",
    "print (find_best(grp,'RBI')+\" has most number of RUNS_BATTED_IN during 2005-2016\")\n",
    "print\n",
    "print (find_best(grp,'SB')+\" has most number of STOLEN_BASES during 2005-2016\")"
   ]
  },
  {
   "cell_type": "code",
   "execution_count": 9,
   "metadata": {
    "collapsed": false,
    "deletable": true,
    "editable": true
   },
   "outputs": [
    {
     "name": "stdout",
     "output_type": "stream",
     "text": [
      "\n",
      "Juan Pierre has most number of CAUGHT_STEALING during 2005-2016\n",
      "\n",
      "David Ortiz has most number of BASE_ON_BALLS during 2005-2016\n",
      "\n",
      "Ryan Howard has most number of STRIKE_OUTS during 2005-2016\n",
      "\n",
      "Albert Pujols has most number of INTENTIONAL_WALKS during 2005-2016\n"
     ]
    }
   ],
   "source": [
    "print\n",
    "print (find_best(grp,'CS')+\" has most number of CAUGHT_STEALING during 2005-2016\")\n",
    "print\n",
    "print (find_best(grp,'BB')+\" has most number of BASE_ON_BALLS during 2005-2016\")\n",
    "print\n",
    "print (find_best(grp,'SO')+\" has most number of STRIKE_OUTS during 2005-2016\")\n",
    "print\n",
    "print (find_best(grp,'IBB')+\" has most number of INTENTIONAL_WALKS during 2005-2016\")"
   ]
  },
  {
   "cell_type": "code",
   "execution_count": 10,
   "metadata": {
    "collapsed": false,
    "deletable": true,
    "editable": true
   },
   "outputs": [
    {
     "name": "stdout",
     "output_type": "stream",
     "text": [
      "\n",
      "Chase Utley has most number of HIT_BY_PITCH during 2005-2016\n",
      "\n",
      "Juan Pierre has most number of SACRIFICE_HITS during 2005-2016\n",
      "\n",
      "Albert Pujols has most number of SACRIFICE_FLIES during 2005-2016\n",
      "\n",
      "Albert Pujols has most number of GROUNDED_INTO_DOUBLE_PLAYS during 2005-2016\n"
     ]
    }
   ],
   "source": [
    "print\n",
    "print (find_best(grp,'HBP')+\" has most number of HIT_BY_PITCH during 2005-2016\")\n",
    "print\n",
    "print (find_best(grp,'SH')+\" has most number of SACRIFICE_HITS during 2005-2016\")\n",
    "print\n",
    "print (find_best(grp,'SF')+\" has most number of SACRIFICE_FLIES during 2005-2016\")\n",
    "print\n",
    "print (find_best(grp,'GIDP')+\" has most number of GROUNDED_INTO_DOUBLE_PLAYS during 2005-2016\")"
   ]
  },
  {
   "cell_type": "markdown",
   "metadata": {
    "deletable": true,
    "editable": true
   },
   "source": [
    "### Conclusion: With just one groupby, one merge and one function, pandas made my life easier in finding out the number one batsmen in each of the batting metrics. This similar analysis can be done on pitching, fielding or any other data set to get the number one player in each of the metric."
   ]
  },
  {
   "cell_type": "markdown",
   "metadata": {
    "deletable": true,
    "editable": true
   },
   "source": [
    "### Question 2:"
   ]
  },
  {
   "cell_type": "markdown",
   "metadata": {
    "deletable": true,
    "editable": true
   },
   "source": [
    "### Finding how the salary of the pitcher and his performance vary. To avoid the conflict of money value and also the effect of old rules I have decided to consider the data from 2005."
   ]
  },
  {
   "cell_type": "code",
   "execution_count": 11,
   "metadata": {
    "collapsed": false,
    "deletable": true,
    "editable": true
   },
   "outputs": [
    {
     "name": "stdout",
     "output_type": "stream",
     "text": [
      "        playerID  yearID  stint teamID lgID  W  L   G  GS  CG  ...   IBB   WP  \\\n",
      "36244  accarje01    2005      1    SFN   NL  1  5  28   0   0  ...   1.0  1.0   \n",
      "36245  acevejo01    2005      1    COL   NL  2  4  36   5   0  ...   3.0  0.0   \n",
      "36246  adamsmi03    2005      1    MIL   NL  0  1  13   0   0  ...   1.0  1.0   \n",
      "36247  adamste01    2005      1    PHI   NL  0  2  16   0   0  ...   2.0  0.0   \n",
      "36248  adkinjo01    2005      1    CHA   AL  0  1   5   0   0  ...   2.0  0.0   \n",
      "\n",
      "       HBP  BK    BFP   GF   R   SH   SF  GIDP  \n",
      "36244  1.0   0  124.0  7.0  13  1.0  1.0   3.0  \n",
      "36245  1.0   1  292.0  7.0  48  2.0  5.0   3.0  \n",
      "36246  0.0   0   61.0  7.0   4  0.0  0.0   1.0  \n",
      "36247  4.0   0   77.0  5.0  19  1.0  0.0   2.0  \n",
      "36248  1.0   0   42.0  4.0   8  0.0  0.0   1.0  \n",
      "\n",
      "[5 rows x 30 columns]\n"
     ]
    }
   ],
   "source": [
    "pitching_df = pd.read_csv('Pitching.csv')\n",
    "#cleaning the data\n",
    "pitching_df_clean = pitching_df[pitching_df['yearID']>=2005]\n",
    "# displaying the cleansed data\n",
    "print pitching_df_clean.head()"
   ]
  },
  {
   "cell_type": "code",
   "execution_count": 12,
   "metadata": {
    "collapsed": false,
    "deletable": true,
    "editable": true
   },
   "outputs": [
    {
     "name": "stdout",
     "output_type": "stream",
     "text": [
      "True\n"
     ]
    }
   ],
   "source": [
    "print pitching_df_clean.isnull().values.any()"
   ]
  },
  {
   "cell_type": "markdown",
   "metadata": {
    "deletable": true,
    "editable": true
   },
   "source": [
    "There are null values in the cleansed data. Let us identify what all the attributes that have null values."
   ]
  },
  {
   "cell_type": "code",
   "execution_count": 13,
   "metadata": {
    "collapsed": false,
    "deletable": true,
    "editable": true
   },
   "outputs": [
    {
     "name": "stdout",
     "output_type": "stream",
     "text": [
      "playerID    False\n",
      "yearID      False\n",
      "stint       False\n",
      "teamID      False\n",
      "lgID        False\n",
      "W           False\n",
      "L           False\n",
      "G           False\n",
      "GS          False\n",
      "CG          False\n",
      "SHO         False\n",
      "SV          False\n",
      "IPouts      False\n",
      "H           False\n",
      "ER          False\n",
      "HR          False\n",
      "BB          False\n",
      "SO          False\n",
      "BAOpp        True\n",
      "ERA          True\n",
      "IBB         False\n",
      "WP          False\n",
      "HBP         False\n",
      "BK          False\n",
      "BFP         False\n",
      "GF          False\n",
      "R           False\n",
      "SH          False\n",
      "SF          False\n",
      "GIDP         True\n",
      "dtype: bool\n"
     ]
    }
   ],
   "source": [
    "print pitching_df_clean.isnull().any()"
   ]
  },
  {
   "cell_type": "markdown",
   "metadata": {
    "deletable": true,
    "editable": true
   },
   "source": [
    "BOAPP, ERA and GIDP attributes are having null values. Let us try to replace the null values with the corresponding attributes mean value."
   ]
  },
  {
   "cell_type": "code",
   "execution_count": 49,
   "metadata": {
    "collapsed": false,
    "deletable": true,
    "editable": true
   },
   "outputs": [],
   "source": [
    "BAOpp_mean = pitching_df_clean.BAOpp.mean()\n",
    "ERA_mean = pitching_df_clean.ERA.mean()\n",
    "GIDP_mean = pitching_df_clean.GIDP.mean()\n",
    "pitching_df_clean.BAOpp = pitching_df_clean.BAOpp.fillna(BAOpp_mean)\n",
    "pitching_df_clean.ERA = pitching_df_clean.ERA.fillna(ERA_mean)\n",
    "pitching_df_clean.GIDP = pitching_df_clean.GIDP.fillna(GIDP_mean)"
   ]
  },
  {
   "cell_type": "code",
   "execution_count": 15,
   "metadata": {
    "collapsed": false,
    "deletable": true,
    "editable": true
   },
   "outputs": [
    {
     "name": "stdout",
     "output_type": "stream",
     "text": [
      "playerID    False\n",
      "yearID      False\n",
      "stint       False\n",
      "teamID      False\n",
      "lgID        False\n",
      "W           False\n",
      "L           False\n",
      "G           False\n",
      "GS          False\n",
      "CG          False\n",
      "SHO         False\n",
      "SV          False\n",
      "IPouts      False\n",
      "H           False\n",
      "ER          False\n",
      "HR          False\n",
      "BB          False\n",
      "SO          False\n",
      "BAOpp       False\n",
      "ERA         False\n",
      "IBB         False\n",
      "WP          False\n",
      "HBP         False\n",
      "BK          False\n",
      "BFP         False\n",
      "GF          False\n",
      "R           False\n",
      "SH          False\n",
      "SF          False\n",
      "GIDP        False\n",
      "dtype: bool\n"
     ]
    }
   ],
   "source": [
    "print pitching_df_clean.isnull().any()"
   ]
  },
  {
   "cell_type": "markdown",
   "metadata": {
    "deletable": true,
    "editable": true
   },
   "source": [
    "All the null values are replaced with the mean!"
   ]
  },
  {
   "cell_type": "markdown",
   "metadata": {
    "collapsed": true,
    "deletable": true,
    "editable": true
   },
   "source": [
    "### We need the salary of each player to do the correlation anlaysis. We have to perform merge operation on cleansed pitching data frame and the salary table. We just need the salary column from the salaries.csv dataset."
   ]
  },
  {
   "cell_type": "code",
   "execution_count": 16,
   "metadata": {
    "collapsed": false,
    "deletable": true,
    "editable": true
   },
   "outputs": [],
   "source": [
    "salary_df = pd.read_csv('Salaries.csv')"
   ]
  },
  {
   "cell_type": "code",
   "execution_count": 17,
   "metadata": {
    "collapsed": true,
    "deletable": true,
    "editable": true
   },
   "outputs": [],
   "source": [
    "pitching_df_clean = pitching_df_clean.merge(salary_df[['playerID','yearID','salary']],on = \n",
    "                                            ['playerID','yearID'],how = 'inner')"
   ]
  },
  {
   "cell_type": "code",
   "execution_count": 18,
   "metadata": {
    "collapsed": false,
    "deletable": true,
    "editable": true
   },
   "outputs": [
    {
     "data": {
      "text/html": [
       "<div>\n",
       "<table border=\"1\" class=\"dataframe\">\n",
       "  <thead>\n",
       "    <tr style=\"text-align: right;\">\n",
       "      <th></th>\n",
       "      <th>playerID</th>\n",
       "      <th>yearID</th>\n",
       "      <th>stint</th>\n",
       "      <th>teamID</th>\n",
       "      <th>lgID</th>\n",
       "      <th>W</th>\n",
       "      <th>L</th>\n",
       "      <th>G</th>\n",
       "      <th>GS</th>\n",
       "      <th>CG</th>\n",
       "      <th>...</th>\n",
       "      <th>WP</th>\n",
       "      <th>HBP</th>\n",
       "      <th>BK</th>\n",
       "      <th>BFP</th>\n",
       "      <th>GF</th>\n",
       "      <th>R</th>\n",
       "      <th>SH</th>\n",
       "      <th>SF</th>\n",
       "      <th>GIDP</th>\n",
       "      <th>salary</th>\n",
       "    </tr>\n",
       "  </thead>\n",
       "  <tbody>\n",
       "    <tr>\n",
       "      <th>0</th>\n",
       "      <td>adamsmi03</td>\n",
       "      <td>2005</td>\n",
       "      <td>1</td>\n",
       "      <td>MIL</td>\n",
       "      <td>NL</td>\n",
       "      <td>0</td>\n",
       "      <td>1</td>\n",
       "      <td>13</td>\n",
       "      <td>0</td>\n",
       "      <td>0</td>\n",
       "      <td>...</td>\n",
       "      <td>1.0</td>\n",
       "      <td>0.0</td>\n",
       "      <td>0</td>\n",
       "      <td>61.0</td>\n",
       "      <td>7.0</td>\n",
       "      <td>4</td>\n",
       "      <td>0.0</td>\n",
       "      <td>0.0</td>\n",
       "      <td>1.0</td>\n",
       "      <td>331000</td>\n",
       "    </tr>\n",
       "    <tr>\n",
       "      <th>1</th>\n",
       "      <td>adamste01</td>\n",
       "      <td>2005</td>\n",
       "      <td>1</td>\n",
       "      <td>PHI</td>\n",
       "      <td>NL</td>\n",
       "      <td>0</td>\n",
       "      <td>2</td>\n",
       "      <td>16</td>\n",
       "      <td>0</td>\n",
       "      <td>0</td>\n",
       "      <td>...</td>\n",
       "      <td>0.0</td>\n",
       "      <td>4.0</td>\n",
       "      <td>0</td>\n",
       "      <td>77.0</td>\n",
       "      <td>5.0</td>\n",
       "      <td>19</td>\n",
       "      <td>1.0</td>\n",
       "      <td>0.0</td>\n",
       "      <td>2.0</td>\n",
       "      <td>500000</td>\n",
       "    </tr>\n",
       "    <tr>\n",
       "      <th>2</th>\n",
       "      <td>affelje01</td>\n",
       "      <td>2005</td>\n",
       "      <td>1</td>\n",
       "      <td>KCA</td>\n",
       "      <td>AL</td>\n",
       "      <td>0</td>\n",
       "      <td>2</td>\n",
       "      <td>49</td>\n",
       "      <td>0</td>\n",
       "      <td>0</td>\n",
       "      <td>...</td>\n",
       "      <td>5.0</td>\n",
       "      <td>0.0</td>\n",
       "      <td>0</td>\n",
       "      <td>232.0</td>\n",
       "      <td>13.0</td>\n",
       "      <td>35</td>\n",
       "      <td>0.0</td>\n",
       "      <td>1.0</td>\n",
       "      <td>6.0</td>\n",
       "      <td>950000</td>\n",
       "    </tr>\n",
       "    <tr>\n",
       "      <th>3</th>\n",
       "      <td>alfonan01</td>\n",
       "      <td>2005</td>\n",
       "      <td>1</td>\n",
       "      <td>FLO</td>\n",
       "      <td>NL</td>\n",
       "      <td>1</td>\n",
       "      <td>1</td>\n",
       "      <td>33</td>\n",
       "      <td>0</td>\n",
       "      <td>0</td>\n",
       "      <td>...</td>\n",
       "      <td>1.0</td>\n",
       "      <td>2.0</td>\n",
       "      <td>0</td>\n",
       "      <td>118.0</td>\n",
       "      <td>1.0</td>\n",
       "      <td>15</td>\n",
       "      <td>3.0</td>\n",
       "      <td>2.0</td>\n",
       "      <td>6.0</td>\n",
       "      <td>300000</td>\n",
       "    </tr>\n",
       "    <tr>\n",
       "      <th>4</th>\n",
       "      <td>almanca01</td>\n",
       "      <td>2005</td>\n",
       "      <td>1</td>\n",
       "      <td>TEX</td>\n",
       "      <td>AL</td>\n",
       "      <td>0</td>\n",
       "      <td>0</td>\n",
       "      <td>6</td>\n",
       "      <td>0</td>\n",
       "      <td>0</td>\n",
       "      <td>...</td>\n",
       "      <td>4.0</td>\n",
       "      <td>1.0</td>\n",
       "      <td>0</td>\n",
       "      <td>33.0</td>\n",
       "      <td>2.0</td>\n",
       "      <td>8</td>\n",
       "      <td>0.0</td>\n",
       "      <td>2.0</td>\n",
       "      <td>0.0</td>\n",
       "      <td>1100000</td>\n",
       "    </tr>\n",
       "  </tbody>\n",
       "</table>\n",
       "<p>5 rows × 31 columns</p>\n",
       "</div>"
      ],
      "text/plain": [
       "    playerID  yearID  stint teamID lgID  W  L   G  GS  CG   ...      WP  HBP  \\\n",
       "0  adamsmi03    2005      1    MIL   NL  0  1  13   0   0   ...     1.0  0.0   \n",
       "1  adamste01    2005      1    PHI   NL  0  2  16   0   0   ...     0.0  4.0   \n",
       "2  affelje01    2005      1    KCA   AL  0  2  49   0   0   ...     5.0  0.0   \n",
       "3  alfonan01    2005      1    FLO   NL  1  1  33   0   0   ...     1.0  2.0   \n",
       "4  almanca01    2005      1    TEX   AL  0  0   6   0   0   ...     4.0  1.0   \n",
       "\n",
       "   BK    BFP    GF   R   SH   SF  GIDP   salary  \n",
       "0   0   61.0   7.0   4  0.0  0.0   1.0   331000  \n",
       "1   0   77.0   5.0  19  1.0  0.0   2.0   500000  \n",
       "2   0  232.0  13.0  35  0.0  1.0   6.0   950000  \n",
       "3   0  118.0   1.0  15  3.0  2.0   6.0   300000  \n",
       "4   0   33.0   2.0   8  0.0  2.0   0.0  1100000  \n",
       "\n",
       "[5 rows x 31 columns]"
      ]
     },
     "execution_count": 18,
     "metadata": {},
     "output_type": "execute_result"
    }
   ],
   "source": [
    "pitching_df_clean.head()"
   ]
  },
  {
   "cell_type": "code",
   "execution_count": 19,
   "metadata": {
    "collapsed": true,
    "deletable": true,
    "editable": true
   },
   "outputs": [],
   "source": [
    "# The salary of each player in that corresponding year is merged to pitching_clean_df dataframe"
   ]
  },
  {
   "cell_type": "code",
   "execution_count": 20,
   "metadata": {
    "collapsed": true,
    "deletable": true,
    "editable": true
   },
   "outputs": [],
   "source": [
    "# Function which returns the correlation of two different variables\n",
    "def correlation(x, y):\n",
    "    std_x = x.std(ddof=0)\n",
    "    std_y = y.std(ddof=0)\n",
    "    x = (x-x.mean())/std_x\n",
    "    y = (y-y.mean())/std_y\n",
    "    l = x * y\n",
    "    return l.mean()"
   ]
  },
  {
   "cell_type": "code",
   "execution_count": 21,
   "metadata": {
    "collapsed": false,
    "deletable": true,
    "editable": true,
    "scrolled": true
   },
   "outputs": [
    {
     "name": "stdout",
     "output_type": "stream",
     "text": [
      "-0.0798689296191\n"
     ]
    }
   ],
   "source": [
    "print correlation(pitching_df_clean['ERA'],pitching_df_clean['salary'])"
   ]
  },
  {
   "cell_type": "markdown",
   "metadata": {
    "deletable": true,
    "editable": true
   },
   "source": [
    "### The Pearsons coefficent says that the pitchers salary and the Earned Run Average are not correlated strongly. Since it is close to zero we cant say that ERA varies with salary proportionally. Let us try to conclude the same thing using a plot. Using the functions of seaborn, I would like to visualize a linear relationship between ERA and salary. Seaborn provides two differnet functions, regplot()  and lmplot(). Both the functions try to draw a scatterplot of two variables, x and y, and then fit the regression model y ~ x and plot the resulting regression line and a 95% confidence interval for that regression. "
   ]
  },
  {
   "cell_type": "code",
   "execution_count": 22,
   "metadata": {
    "collapsed": false,
    "deletable": true,
    "editable": true
   },
   "outputs": [
    {
     "data": {
      "image/png": "[encoded data removed]",
      "text/plain": [
       "<matplotlib.figure.Figure at 0xe96d898>"
      ]
     },
     "metadata": {},
     "output_type": "display_data"
    }
   ],
   "source": [
    "# lmplot() and regplot() functions perform in similar fashion, The main difference is that lmplot takes x and y \n",
    "# arguments only as a string. Whereas, regplot can take x and y arguments as a pandas series or a reference to \n",
    "# variables in a dataframe.\n",
    "\n",
    "sns.lmplot(x='ERA',y='salary',data = pitching_df_clean,scatter_kws={'marker':'.', 'color': 'red'},\n",
    "          line_kws={'linewidth':1,'color':'blue'}, size = 4, aspect = 2)\n",
    "plt.xlabel('ERA_2005-2016')\n",
    "plt.ylabel('Slary_2005-2016')\n",
    "plt.title('lmplot: Correlation of pitchers ERA and salary')\n",
    "plt.show()"
   ]
  },
  {
   "cell_type": "code",
   "execution_count": 23,
   "metadata": {
    "collapsed": false,
    "deletable": true,
    "editable": true
   },
   "outputs": [
    {
     "data": {
      "image/png": "[encoded data removed]",
      "text/plain": [
       "<matplotlib.figure.Figure at 0xe96d048>"
      ]
     },
     "metadata": {},
     "output_type": "display_data"
    }
   ],
   "source": [
    "#regplot()\n",
    "sns.regplot(x=pitching_df_clean['ERA'],y=pitching_df_clean['salary'],data=pitching_df_clean,\n",
    "           scatter_kws={'marker':\".\", 'color': 'red'},line_kws={'linewidth':1,'color':'blue'})\n",
    "plt.xlabel('ERA_2005-2016')\n",
    "plt.ylabel('Slary_2005-2016')\n",
    "plt.title('regplot: Correlation of pitchers ERA and salary')\n",
    "plt.show()"
   ]
  },
  {
   "cell_type": "markdown",
   "metadata": {
    "deletable": true,
    "editable": true
   },
   "source": [
    "### Conclusion: We have seen that we have no linear correlation between ERA and salary but I am not convinced with the result as most of the franchises do spend more on good pitchers. We cannot rule out correlation just by performing analysis in linear fashion. We may find correlation in non linear. I would like to take up the same analysis once I have enough knowledge on non linear regression. "
   ]
  },
  {
   "cell_type": "markdown",
   "metadata": {
    "collapsed": true,
    "deletable": true,
    "editable": true
   },
   "source": [
    "### Question 3:"
   ]
  },
  {
   "cell_type": "markdown",
   "metadata": {
    "deletable": true,
    "editable": true
   },
   "source": [
    "### The main difference between National league and American league is that AL has a designated hitter instaed of a pitcher. The pitcher never appears at base. This rule was inducted in AL from 1973. I would like to identify the pitchers who played in both the leagues[NL,AL] and perform a z-test on thier ERA in both the leagues. I assume that the pitcher in AL performs better as he need not worry about batting. Let me confirm my assumption by performing a z-test.  "
   ]
  },
  {
   "cell_type": "code",
   "execution_count": 24,
   "metadata": {
    "collapsed": false,
    "deletable": true,
    "editable": true
   },
   "outputs": [
    {
     "name": "stdout",
     "output_type": "stream",
     "text": [
      "playerID    False\n",
      "yearID      False\n",
      "stint       False\n",
      "teamID      False\n",
      "lgID        False\n",
      "W           False\n",
      "L           False\n",
      "G           False\n",
      "GS          False\n",
      "CG          False\n",
      "SHO         False\n",
      "SV          False\n",
      "IPouts      False\n",
      "H           False\n",
      "ER          False\n",
      "HR          False\n",
      "BB          False\n",
      "SO          False\n",
      "BAOpp        True\n",
      "ERA         False\n",
      "IBB         False\n",
      "WP          False\n",
      "HBP         False\n",
      "BK          False\n",
      "BFP         False\n",
      "GF          False\n",
      "R           False\n",
      "SH           True\n",
      "SF           True\n",
      "GIDP         True\n",
      "dtype: bool\n"
     ]
    }
   ],
   "source": [
    "# As Designated hitter was introduced from 1973, we have to clean pitching_df dataframe to have records only from 1973.\n",
    "pitching_dh_df =pitching_df[pitching_df['yearID']>=1973]\n",
    "#print pitching_dh_df.head()\n",
    "\n",
    "# Replcae the null values of ERA with the mean value of ERA:\n",
    "pitching_dh_df.ERA = pitching_dh_df.ERA.fillna(pitching_dh_df.ERA.mean())\n",
    "print pitching_dh_df.isnull().any()"
   ]
  },
  {
   "cell_type": "markdown",
   "metadata": {
    "deletable": true,
    "editable": true
   },
   "source": [
    "All the null values in ERA are replaced with the mean."
   ]
  },
  {
   "cell_type": "code",
   "execution_count": 26,
   "metadata": {
    "collapsed": true,
    "deletable": true,
    "editable": true
   },
   "outputs": [],
   "source": [
    "# Creating a pandas series which conatins all the pitchers who played in AL from 1973.\n",
    "player_AL = pitching_dh_df.playerID[pitching_dh_df['lgID'] == 'AL']\n",
    "# Creating a pandas series which conatins all the pitchers who played in NL from 1973.\n",
    "player_NL = pitching_dh_df.playerID[pitching_dh_df['lgID'] == 'NL']"
   ]
  },
  {
   "cell_type": "code",
   "execution_count": 29,
   "metadata": {
    "collapsed": false,
    "deletable": true,
    "editable": true
   },
   "outputs": [
    {
     "data": {
      "text/plain": [
       "1925"
      ]
     },
     "execution_count": 29,
     "metadata": {},
     "output_type": "execute_result"
    }
   ],
   "source": [
    "# Removing duplicates from each sereis:\n",
    "player_AL = player_AL.drop_duplicates()\n",
    "player_NL = player_NL.drop_duplicates()\n",
    "\n",
    "pitcher_played_both_leagues = []\n",
    "\n",
    "# Review comment 05/15: Updated the code to use set intersection() instead of for loops. \n",
    "'''creating the list of players who played both the leagues:\n",
    "for id in player_AL:\n",
    "     if id in player_NL.values:\n",
    "        pitcher_played_both_leagues.append(id)\n",
    "len(pitcher_played_both_leagues)\n",
    "\n",
    "# pitcher_played_both_leagues list contains all the players who played both leagues'''\n",
    "pitcher_played_both_leagues = set(player_AL).intersection(player_NL)\n",
    "len(pitcher_played_both_leagues)"
   ]
  },
  {
   "cell_type": "code",
   "execution_count": 48,
   "metadata": {
    "collapsed": false,
    "deletable": true,
    "editable": true
   },
   "outputs": [],
   "source": [
    "# The below snippet removes all the records of the players who played only one league. Looks small! But it took a while \n",
    "# to crack :p\n",
    "\n",
    "for index,row in pitching_dh_df.iterrows():\n",
    "    \n",
    "    if(row['playerID'] not in pitcher_played_both_leagues):\n",
    "        pitching_dh_df.drop(index,inplace = True)"
   ]
  },
  {
   "cell_type": "markdown",
   "metadata": {
    "deletable": true,
    "editable": true
   },
   "source": [
    "### The abvoe snippet cleans the pitching_dh_df in a such a way that it contains only the reocrds of the players who played both the leagues."
   ]
  },
  {
   "cell_type": "code",
   "execution_count": 31,
   "metadata": {
    "collapsed": false,
    "deletable": true,
    "editable": true
   },
   "outputs": [
    {
     "data": {
      "text/html": [
       "<div>\n",
       "<table border=\"1\" class=\"dataframe\">\n",
       "  <thead>\n",
       "    <tr style=\"text-align: right;\">\n",
       "      <th></th>\n",
       "      <th>playerID</th>\n",
       "      <th>yearID</th>\n",
       "      <th>stint</th>\n",
       "      <th>teamID</th>\n",
       "      <th>lgID</th>\n",
       "      <th>W</th>\n",
       "      <th>L</th>\n",
       "      <th>G</th>\n",
       "      <th>GS</th>\n",
       "      <th>CG</th>\n",
       "      <th>...</th>\n",
       "      <th>IBB</th>\n",
       "      <th>WP</th>\n",
       "      <th>HBP</th>\n",
       "      <th>BK</th>\n",
       "      <th>BFP</th>\n",
       "      <th>GF</th>\n",
       "      <th>R</th>\n",
       "      <th>SH</th>\n",
       "      <th>SF</th>\n",
       "      <th>GIDP</th>\n",
       "    </tr>\n",
       "  </thead>\n",
       "  <tbody>\n",
       "    <tr>\n",
       "      <th>20316</th>\n",
       "      <td>acostcy01</td>\n",
       "      <td>1973</td>\n",
       "      <td>1</td>\n",
       "      <td>CHA</td>\n",
       "      <td>AL</td>\n",
       "      <td>10</td>\n",
       "      <td>6</td>\n",
       "      <td>48</td>\n",
       "      <td>0</td>\n",
       "      <td>0</td>\n",
       "      <td>...</td>\n",
       "      <td>3.0</td>\n",
       "      <td>2.0</td>\n",
       "      <td>7.0</td>\n",
       "      <td>1</td>\n",
       "      <td>396.0</td>\n",
       "      <td>42.0</td>\n",
       "      <td>30</td>\n",
       "      <td>NaN</td>\n",
       "      <td>NaN</td>\n",
       "      <td>NaN</td>\n",
       "    </tr>\n",
       "    <tr>\n",
       "      <th>20319</th>\n",
       "      <td>alexado01</td>\n",
       "      <td>1973</td>\n",
       "      <td>1</td>\n",
       "      <td>BAL</td>\n",
       "      <td>AL</td>\n",
       "      <td>12</td>\n",
       "      <td>8</td>\n",
       "      <td>29</td>\n",
       "      <td>26</td>\n",
       "      <td>10</td>\n",
       "      <td>...</td>\n",
       "      <td>5.0</td>\n",
       "      <td>3.0</td>\n",
       "      <td>7.0</td>\n",
       "      <td>0</td>\n",
       "      <td>726.0</td>\n",
       "      <td>2.0</td>\n",
       "      <td>85</td>\n",
       "      <td>NaN</td>\n",
       "      <td>NaN</td>\n",
       "      <td>NaN</td>\n",
       "    </tr>\n",
       "    <tr>\n",
       "      <th>20325</th>\n",
       "      <td>arlinst01</td>\n",
       "      <td>1973</td>\n",
       "      <td>1</td>\n",
       "      <td>SDN</td>\n",
       "      <td>NL</td>\n",
       "      <td>11</td>\n",
       "      <td>14</td>\n",
       "      <td>34</td>\n",
       "      <td>27</td>\n",
       "      <td>7</td>\n",
       "      <td>...</td>\n",
       "      <td>7.0</td>\n",
       "      <td>7.0</td>\n",
       "      <td>1.0</td>\n",
       "      <td>0</td>\n",
       "      <td>794.0</td>\n",
       "      <td>0.0</td>\n",
       "      <td>107</td>\n",
       "      <td>NaN</td>\n",
       "      <td>NaN</td>\n",
       "      <td>NaN</td>\n",
       "    </tr>\n",
       "    <tr>\n",
       "      <th>20326</th>\n",
       "      <td>bahnsst01</td>\n",
       "      <td>1973</td>\n",
       "      <td>1</td>\n",
       "      <td>CHA</td>\n",
       "      <td>AL</td>\n",
       "      <td>18</td>\n",
       "      <td>21</td>\n",
       "      <td>42</td>\n",
       "      <td>42</td>\n",
       "      <td>14</td>\n",
       "      <td>...</td>\n",
       "      <td>2.0</td>\n",
       "      <td>10.0</td>\n",
       "      <td>5.0</td>\n",
       "      <td>0</td>\n",
       "      <td>1218.0</td>\n",
       "      <td>0.0</td>\n",
       "      <td>128</td>\n",
       "      <td>NaN</td>\n",
       "      <td>NaN</td>\n",
       "      <td>NaN</td>\n",
       "    </tr>\n",
       "    <tr>\n",
       "      <th>20330</th>\n",
       "      <td>barbest01</td>\n",
       "      <td>1973</td>\n",
       "      <td>1</td>\n",
       "      <td>CAL</td>\n",
       "      <td>AL</td>\n",
       "      <td>3</td>\n",
       "      <td>2</td>\n",
       "      <td>50</td>\n",
       "      <td>1</td>\n",
       "      <td>0</td>\n",
       "      <td>...</td>\n",
       "      <td>3.0</td>\n",
       "      <td>4.0</td>\n",
       "      <td>3.0</td>\n",
       "      <td>0</td>\n",
       "      <td>386.0</td>\n",
       "      <td>19.0</td>\n",
       "      <td>40</td>\n",
       "      <td>NaN</td>\n",
       "      <td>NaN</td>\n",
       "      <td>NaN</td>\n",
       "    </tr>\n",
       "  </tbody>\n",
       "</table>\n",
       "<p>5 rows × 30 columns</p>\n",
       "</div>"
      ],
      "text/plain": [
       "        playerID  yearID  stint teamID lgID   W   L   G  GS  CG  ...   IBB  \\\n",
       "20316  acostcy01    1973      1    CHA   AL  10   6  48   0   0  ...   3.0   \n",
       "20319  alexado01    1973      1    BAL   AL  12   8  29  26  10  ...   5.0   \n",
       "20325  arlinst01    1973      1    SDN   NL  11  14  34  27   7  ...   7.0   \n",
       "20326  bahnsst01    1973      1    CHA   AL  18  21  42  42  14  ...   2.0   \n",
       "20330  barbest01    1973      1    CAL   AL   3   2  50   1   0  ...   3.0   \n",
       "\n",
       "         WP  HBP  BK     BFP    GF    R  SH  SF  GIDP  \n",
       "20316   2.0  7.0   1   396.0  42.0   30 NaN NaN   NaN  \n",
       "20319   3.0  7.0   0   726.0   2.0   85 NaN NaN   NaN  \n",
       "20325   7.0  1.0   0   794.0   0.0  107 NaN NaN   NaN  \n",
       "20326  10.0  5.0   0  1218.0   0.0  128 NaN NaN   NaN  \n",
       "20330   4.0  3.0   0   386.0  19.0   40 NaN NaN   NaN  \n",
       "\n",
       "[5 rows x 30 columns]"
      ]
     },
     "execution_count": 31,
     "metadata": {},
     "output_type": "execute_result"
    }
   ],
   "source": [
    "pitching_dh_df.head()"
   ]
  },
  {
   "cell_type": "code",
   "execution_count": null,
   "metadata": {
    "collapsed": true,
    "deletable": true,
    "editable": true
   },
   "outputs": [],
   "source": [
    "# 05/15: Commented out the below code as per the suggestions given by the reviewer. Created the required data frame in \n",
    "# one line using unstack() method.\n",
    "'''# The below snippet finds the mean ERA of each player in each league\n",
    "grp = pitching_dh_df.groupby(['playerID','lgID'],as_index = True)\n",
    "\n",
    "print(len(grp.mean()['ERA']))\n",
    "# fact check: We had 1925 players who played both the leagues. When we groupby the df on playerID and leagueID we should\n",
    "# get 1925*2 = 3850 rows. Got it!\n",
    "\n",
    "print \n",
    "\n",
    "s = grp.mean()['ERA']\n",
    "# List which contains AL pitchers ERA mean:\n",
    "AL_ERA = []\n",
    "# List which contains NL pitchers ERA mean:\n",
    "NL_ERA = []\n",
    "\n",
    "for i in range(3850):\n",
    "    if (i%2 == 0):\n",
    "        AL_ERA.append(s.iloc[i])\n",
    "    else:\n",
    "        NL_ERA.append(s.iloc[i])\n",
    "\n",
    "# Creating a DF to store the means accordingly:\n",
    "era_df = pd.DataFrame({'AL':AL_ERA,\n",
    "                       'NL':NL_ERA \n",
    "})\n",
    "\n",
    "print era_df\n",
    "\n",
    "# Each row of era_df contains the era_mean of that player in AL lg and NL lg as shown below'''"
   ]
  },
  {
   "cell_type": "code",
   "execution_count": 41,
   "metadata": {
    "collapsed": false,
    "deletable": true,
    "editable": true
   },
   "outputs": [
    {
     "name": "stdout",
     "output_type": "stream",
     "text": [
      "3850\n",
      "\n",
      "lgID              AL     NL\n",
      "playerID                   \n",
      "aardsda01   5.382000  4.960\n",
      "aasedo01    3.318182  4.455\n",
      "abadfe01    3.690000  4.650\n",
      "abbotji01   4.255000  6.910\n",
      "abbotky01  12.415000  4.470\n"
     ]
    }
   ],
   "source": [
    "# The below snippet finds the mean ERA of each player in each league\n",
    "grp = pitching_dh_df.groupby(['playerID','lgID'],as_index = True)\n",
    "\n",
    "print(len(grp.mean()['ERA']))\n",
    "# fact check: We had 1925 players who played both the leagues. When we groupby the df on playerID and leagueID we should\n",
    "# get 1925*2 = 3850 rows. Got it!\n",
    "\n",
    "print \n",
    "\n",
    "s = grp.mean()['ERA']\n",
    "\n",
    "era_df = s.unstack(1)\n",
    "print era_df.head()\n",
    "# Thanks for introducing this amazing method! "
   ]
  },
  {
   "cell_type": "markdown",
   "metadata": {
    "deletable": true,
    "editable": true
   },
   "source": [
    "The era_df is bulit in such a way that each row contains the mean era of a player in AL league and mean era in NL league. For example, row 0 is for player acostcy01. His mean era in AL is 5.382000 and 4.960000 in NL."
   ]
  },
  {
   "cell_type": "code",
   "execution_count": 47,
   "metadata": {
    "collapsed": false,
    "deletable": true,
    "editable": true
   },
   "outputs": [
    {
     "data": {
      "text/html": [
       "<iframe id=\"igraph\" scrolling=\"no\" style=\"border:none;\" seamless=\"seamless\" src=\"https://plot.ly/~vemula.manoharr/42.embed\" height=\"525px\" width=\"100%\"></iframe>"
      ],
      "text/plain": [
       "<plotly.tools.PlotlyDisplay object>"
      ]
     },
     "execution_count": 47,
     "metadata": {},
     "output_type": "execute_result"
    }
   ],
   "source": [
    "# Dynamic Box plot of AL_ERA and NL_ERA:\n",
    "import plotly\n",
    "import plotly.plotly as py\n",
    "import plotly.graph_objs as go\n",
    "plotly.tools.set_credentials_file(username='vemula.manoharr', api_key='ilelgrmD5N1SefQNL2mA')\n",
    "trace0 = go.Box(\n",
    "    y=era_df['AL'],\n",
    "    name = 'AL',\n",
    "    marker = dict(\n",
    "        color = 'rgb(214, 12, 140)',\n",
    "    )\n",
    ")\n",
    "\n",
    "trace1 = go.Box(\n",
    "    y=era_df['NL'],\n",
    "    name = 'NL',\n",
    "    marker = dict(\n",
    "        color = 'rgb(0, 128, 128)',\n",
    "    )\n",
    ")\n",
    "layout = go.Layout(\n",
    "    title = 'Box plot of AL and NL ERA',\n",
    "    yaxis=dict(                 \n",
    "        title=\"ERA\"            \n",
    "    ),\n",
    "    \n",
    "    )\n",
    "\n",
    "box = [trace0,trace1]\n",
    "figure = go.Figure(data=box, layout=layout)\n",
    "py.iplot(figure)"
   ]
  },
  {
   "cell_type": "markdown",
   "metadata": {
    "deletable": true,
    "editable": true
   },
   "source": [
    "From the above box plot we can understand that we have significant number of outliers. The plot also doesn't draw any kind of conclusion.Lets try to draw some sort of conlcusoin from the other plot below."
   ]
  },
  {
   "cell_type": "code",
   "execution_count": 50,
   "metadata": {
    "collapsed": false,
    "deletable": true,
    "editable": true
   },
   "outputs": [
    {
     "data": {
      "image/png": "[encoded data removed]",
      "text/plain": [
       "<matplotlib.figure.Figure at 0x146cebe0>"
      ]
     },
     "metadata": {},
     "output_type": "display_data"
    }
   ],
   "source": [
    "diff = map(lambda x,y: x-y,era_df['AL'],era_df['NL'])\n",
    "plt.xlim([min(diff)-5, max(diff)+5])\n",
    "plt.hist(diff)\n",
    "plt.xlabel('Difference b/w AL_ERA and NL_ERA of each player')\n",
    "plt.ylabel('Frequency')\n",
    "plt.title('Histogram plot of AL_ERA and NL_ERA differences')\n",
    "plt.show()"
   ]
  },
  {
   "cell_type": "markdown",
   "metadata": {
    "deletable": true,
    "editable": true
   },
   "source": [
    "The above plot is the histogram plot of the ERA difference between AL and NL ERA of a pitcher. The bin around zero is having a frequency which is close to 1800. That implies that most of the pitchers had same performance in both the leagues. The bin which is around zero is more towards negative side of zero. That implies AL_ERA has more lesser values tham NL_ERA. It means that the pitcher performance in AL is better as his ERA was low comapred to his performance in NL. This is a kind of rough conclusion based on the above plot but let us conclude by performing some statistical test."
   ]
  },
  {
   "cell_type": "markdown",
   "metadata": {
    "collapsed": true,
    "deletable": true,
    "editable": true
   },
   "source": [
    "#### Looks like we have every thing to perform a z-test on AL_ERA and NL_ERA"
   ]
  },
  {
   "cell_type": "markdown",
   "metadata": {
    "deletable": true,
    "editable": true
   },
   "source": [
    " **Null Hypthoses: ** There would be no effect or reduction of ERA mean in NL case. The no effect or reduction of mean that we are talking is with respect to AL case. In other words, null hypthoses states that by introducing designated hitter the pitcher's ERA will not have any change. **H0 = μa >= μn.** μa is the mean era for AL pitchers and μn is the mean era for NL pitchers."
   ]
  },
  {
   "cell_type": "markdown",
   "metadata": {
    "deletable": true,
    "editable": true
   },
   "source": [
    "**Alternate Hypthoses:** The pitcher performance in AL would have an positive impact i.e his ERA will reduce as we have designated hitter in American league. In other words, alternate hypthoses states that by intorducing designated hitter the pitcher's ERA will reduce in AL. **H1 = μa < μn **."
   ]
  },
  {
   "cell_type": "markdown",
   "metadata": {
    "deletable": true,
    "editable": true
   },
   "source": [
    "I am performing z-test becasue the datset consists of all the players who represented in NL and AL. The z-test here is also dependent test as the experiment is done on the same sample with two different cases(NL and AL)"
   ]
  },
  {
   "cell_type": "markdown",
   "metadata": {
    "deletable": true,
    "editable": true
   },
   "source": [
    "**Assumptions:** I would like to perform a z-test with 95% confidence interval. With α = 0.05 I would test if the pitcher's performance in AL yeilds a better ERA or not"
   ]
  },
  {
   "cell_type": "markdown",
   "metadata": {
    "deletable": true,
    "editable": true
   },
   "source": [
    "The test here is one tailed test in negative direcction because, as per our hypotheses our point estimate is 0 and we are trying to test if the mean ERA in AL has decreased. So, the test would be One tailed test in positive direction."
   ]
  },
  {
   "cell_type": "code",
   "execution_count": 28,
   "metadata": {
    "collapsed": false,
    "deletable": true,
    "editable": true
   },
   "outputs": [
    {
     "name": "stdout",
     "output_type": "stream",
     "text": [
      "6.01520095534\n"
     ]
    }
   ],
   "source": [
    "mean_al = era_df.AL.mean()\n",
    "print mean_al"
   ]
  },
  {
   "cell_type": "code",
   "execution_count": 29,
   "metadata": {
    "collapsed": false,
    "deletable": true,
    "editable": true
   },
   "outputs": [
    {
     "name": "stdout",
     "output_type": "stream",
     "text": [
      "5.6121919427\n"
     ]
    }
   ],
   "source": [
    "mean_nl = era_df.NL.mean()\n",
    "print mean_nl"
   ]
  },
  {
   "cell_type": "markdown",
   "metadata": {
    "deletable": true,
    "editable": true
   },
   "source": [
    "α = 0.05, since the test is one tailed in positive direction z critical would be 1.64. "
   ]
  },
  {
   "cell_type": "code",
   "execution_count": 30,
   "metadata": {
    "collapsed": false,
    "deletable": true,
    "editable": true
   },
   "outputs": [
    {
     "name": "stdout",
     "output_type": "stream",
     "text": [
      "The z statistic is\n",
      "2.66609788882\n"
     ]
    }
   ],
   "source": [
    "std_al = era_df.AL.std(ddof=0)\n",
    "zscore = (mean_al- mean_nl)/(std_al/(len(era_df.AL)**(0.5)))\n",
    "print (\"The z statistic is\")\n",
    "print zscore"
   ]
  },
  {
   "cell_type": "markdown",
   "metadata": {
    "deletable": true,
    "editable": true
   },
   "source": [
    "### Conclusion: The calculated z statistic is greater than z critical so we can reject the null. The above analysis can be used in a debate if we can have a designated pitcher in national league or not. We can accept the alternate hypthoses i.e. the performance of the same pitcher is better in AL than his performance in NL. By using the z test results and analysis on the histogram plot we can argue that the same pitcher does better when they have designated hitter. The designated hitter debate is never ending in MLB. The debate can be found in the article http://m.mlb.com/news/article/162492422/designated-hitter-to-nl-debate-continues/ . The above test results add significant weight to the debate who argue to have a designated hitter."
   ]
  },
  {
   "cell_type": "markdown",
   "metadata": {
    "deletable": true,
    "editable": true
   },
   "source": [
    "### All the above questions were answered in such a way that we drew conclusions on the games that were completed. We do have very good prediction algorithms which can predict the winning squad , winning pitch etc.. There is a lot of scope in learning the prediction algorithms and apply those on the history of data to give positive insights to coaches, team managers or franchises. I am looking forward to learn those algorithms and take up this project again for prediction analysis."
   ]
  },
  {
   "cell_type": "markdown",
   "metadata": {
    "collapsed": true,
    "deletable": true,
    "editable": true
   },
   "source": [
    "### References:"
   ]
  },
  {
   "cell_type": "markdown",
   "metadata": {
    "deletable": true,
    "editable": true
   },
   "source": [
    "https://plot.ly/python/getting-started/#start-plotting-online"
   ]
  },
  {
   "cell_type": "markdown",
   "metadata": {
    "deletable": true,
    "editable": true
   },
   "source": [
    "http://www.numpy.org/"
   ]
  },
  {
   "cell_type": "markdown",
   "metadata": {
    "deletable": true,
    "editable": true
   },
   "source": [
    "http://matplotlib.org/api/pyplot_api.html"
   ]
  },
  {
   "cell_type": "markdown",
   "metadata": {
    "deletable": true,
    "editable": true
   },
   "source": [
    "http://pandas.pydata.org/pandas-docs/stable/groupby.html"
   ]
  },
  {
   "cell_type": "markdown",
   "metadata": {
    "deletable": true,
    "editable": true
   },
   "source": [
    "http://m.mlb.com/news/article/162492422/designated-hitter-to-nl-debate-continues/"
   ]
  },
  {
   "cell_type": "code",
   "execution_count": null,
   "metadata": {
    "collapsed": true,
    "deletable": true,
    "editable": true
   },
   "outputs": [],
   "source": []
  }
 ],
 "metadata": {
  "kernelspec": {
   "display_name": "Python 2",
   "language": "python",
   "name": "python2"
  },
  "language_info": {
   "codemirror_mode": {
    "name": "ipython",
    "version": 2
   },
   "file_extension": ".py",
   "mimetype": "text/x-python",
   "name": "python",
   "nbconvert_exporter": "python",
   "pygments_lexer": "ipython2",
   "version": "2.7.13"
  }
 },
 "nbformat": 4,
 "nbformat_minor": 2
}
