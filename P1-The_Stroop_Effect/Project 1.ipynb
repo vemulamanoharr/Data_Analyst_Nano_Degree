{
 "cells": [
  {
   "cell_type": "markdown",
   "metadata": {
    "deletable": true,
    "editable": true
   },
   "source": [
    "#                                       DAND Project 1: The Stroop Effect\n",
    "Sybmitted by: Vemula Manohar Reddy."
   ]
  },
  {
   "cell_type": "markdown",
   "metadata": {
    "deletable": true,
    "editable": true
   },
   "source": [
    "Project Introduction: The science of descisions on Stroop Effect. Stroop effect is one of the classical phenomenon in the field of psychology. In this experiment, participants are presented with a list of words, with each word displayed in a color of ink. The participant’s task is to say out loud the color of the ink in which the word is printed. The task has two conditions: a congruent words condition, and an incongruent words condition. In the congruent words condition, the words being displayed are color words whose names match the colors in which they are printed. In the incongruent words condition, the words displayed are color words whose names do not match the colors in which they are printed. In each case, we measure the time it takes to name the ink colors in equally-sized lists. Each participant will go through and record a time from each condition. \n",
    "\n",
    "In the congruent words experiment I took 17.358 seconds.\n",
    "In the incongruent words experiment I took 25.496 seconds."
   ]
  },
  {
   "cell_type": "markdown",
   "metadata": {
    "deletable": true,
    "editable": true
   },
   "source": [
    "Question 1:What is our independent variable? What is our dependent variable?"
   ]
  },
  {
   "cell_type": "markdown",
   "metadata": {
    "deletable": true,
    "editable": true
   },
   "source": [
    "Solution: In this experiment, The independent variable is the type of the word, i.e. congruant or Incongruant. The dependent variable is the time which is taken by the participant in each type of the experiment. "
   ]
  },
  {
   "cell_type": "markdown",
   "metadata": {
    "collapsed": true,
    "deletable": true,
    "editable": true
   },
   "source": [
    "Question 2:  What is an appropriate set of hypotheses for this task? What kind of statistical test do you expect to perform? Justify your choices."
   ]
  },
  {
   "cell_type": "markdown",
   "metadata": {
    "deletable": true,
    "editable": true
   },
   "source": [
    "Solution: The appropriate set of hyptheses would be"
   ]
  },
  {
   "cell_type": "markdown",
   "metadata": {
    "deletable": true,
    "editable": true
   },
   "source": [
    "**Null hypthoses:** There would be no effect or reduction in time in incongruant condition. The no effect or reduction of time that we are talking here is with respect to congruant condition. In other words, null hypthoses states that by introducing incongruancy it claims that there will be no change or reduction in time compared to that of the time taken in congruant case. \n",
    "H0 : μc >= μi. μc is mean time for congruent words and μi is the mean time taken for incongruent words."
   ]
  },
  {
   "cell_type": "markdown",
   "metadata": {
    "deletable": true,
    "editable": true
   },
   "source": [
    "**Alternate hypthoses:** The time taken in incongruant experiment would increase compared to that of congruant condition. In other words, alternate hypthoses states that by introducing incongruancy it claims taht there will be increase in time compared to that of the time taken in congruant case, H1:  μc < μi ( μc is mean time for congruent words and μi is the mean time taken for incongruent words)"
   ]
  },
  {
   "cell_type": "markdown",
   "metadata": {
    "deletable": true,
    "editable": true
   },
   "source": [
    "I would like to perform a t-test on the given statistcal data. As we dont know the parameters of the population. The test we are doing here is **dependent test** as the experiment is done on the same sample with two different cases(Congruent and Incongruent). \n",
    "\n",
    "**Assumptions:**\n",
    "\n",
    "I would like to perform a t-test with 95% confidence interval. With α = 0.05 I would test if the congruent words are different from Incongruent words.\n",
    "\n",
    "The test here is one tailed test in positive direcction because, as per our hypotheses our point estimate is 0 and we are trying to test if the mean time in Incongruent has increased. So, the test would be One tailed test in positive direction."
   ]
  },
  {
   "cell_type": "markdown",
   "metadata": {
    "deletable": true,
    "editable": true
   },
   "source": [
    "Question 3: Report some descriptive statistics regarding this dataset. Include at least one measure of central tendency and at least one measure of variability."
   ]
  },
  {
   "cell_type": "code",
   "execution_count": 2,
   "metadata": {
    "collapsed": false,
    "deletable": true,
    "editable": true
   },
   "outputs": [],
   "source": [
    "# import necessary packages and functions:\n",
    "import csv\n",
    "import numpy as np\n",
    "import pandas as pd\n",
    "from IPython.display import display\n",
    "import matplotlib.pyplot as plt"
   ]
  },
  {
   "cell_type": "code",
   "execution_count": 3,
   "metadata": {
    "collapsed": false,
    "deletable": true,
    "editable": true
   },
   "outputs": [
    {
     "name": "stdout",
     "output_type": "stream",
     "text": [
      "<class 'pandas.core.frame.DataFrame'>\n",
      "RangeIndex: 24 entries, 0 to 23\n",
      "Data columns (total 2 columns):\n",
      "Congruent      24 non-null float64\n",
      "Incongruent    24 non-null float64\n",
      "dtypes: float64(2)\n",
      "memory usage: 456.0 bytes\n"
     ]
    },
    {
     "data": {
      "text/html": [
       "<div>\n",
       "<table border=\"1\" class=\"dataframe\">\n",
       "  <thead>\n",
       "    <tr style=\"text-align: right;\">\n",
       "      <th></th>\n",
       "      <th>Congruent</th>\n",
       "      <th>Incongruent</th>\n",
       "    </tr>\n",
       "  </thead>\n",
       "  <tbody>\n",
       "    <tr>\n",
       "      <th>0</th>\n",
       "      <td>12.079</td>\n",
       "      <td>19.278</td>\n",
       "    </tr>\n",
       "    <tr>\n",
       "      <th>1</th>\n",
       "      <td>16.791</td>\n",
       "      <td>18.741</td>\n",
       "    </tr>\n",
       "    <tr>\n",
       "      <th>2</th>\n",
       "      <td>9.564</td>\n",
       "      <td>21.214</td>\n",
       "    </tr>\n",
       "    <tr>\n",
       "      <th>3</th>\n",
       "      <td>8.630</td>\n",
       "      <td>15.687</td>\n",
       "    </tr>\n",
       "    <tr>\n",
       "      <th>4</th>\n",
       "      <td>14.669</td>\n",
       "      <td>22.803</td>\n",
       "    </tr>\n",
       "  </tbody>\n",
       "</table>\n",
       "</div>"
      ],
      "text/plain": [
       "   Congruent  Incongruent\n",
       "0     12.079       19.278\n",
       "1     16.791       18.741\n",
       "2      9.564       21.214\n",
       "3      8.630       15.687\n",
       "4     14.669       22.803"
      ]
     },
     "metadata": {},
     "output_type": "display_data"
    }
   ],
   "source": [
    "# stroop effect dataset:\n",
    "stroop_data = pd.read_csv('stroopdata.csv')\n",
    "stroop_data.info()\n",
    "display(stroop_data.head())\n",
    "stroop_data.describe()\n",
    "congruent = list(stroop_data.Congruent)\n",
    "incongruent = list(stroop_data.Incongruent)"
   ]
  },
  {
   "cell_type": "code",
   "execution_count": 4,
   "metadata": {
    "collapsed": false,
    "deletable": true,
    "editable": true
   },
   "outputs": [
    {
     "name": "stdout",
     "output_type": "stream",
     "text": [
      "The mean time with congruent words is: 14.051125 \n",
      "The median time with congruent words is: 14.3565 \n",
      "The variance of the sample with congruent words is: 12.6690290707 \n",
      "The standard deviation of the sample with congruent words is: 3.55935795765 \n"
     ]
    }
   ],
   "source": [
    "mean_con = np.mean(congruent)\n",
    "median_con = np.median(congruent) \n",
    "var_con = np.var(congruent,ddof=1)\n",
    "stdev_con = np.std(congruent,ddof=1)\n",
    "print(\"The mean time with congruent words is: %s \" % mean_con)\n",
    "print(\"The median time with congruent words is: %s \" % median_con)\n",
    "print(\"The variance of the sample with congruent words is: %s \" % var_con)\n",
    "print(\"The standard deviation of the sample with congruent words is: %s \" % stdev_con)"
   ]
  },
  {
   "cell_type": "code",
   "execution_count": 5,
   "metadata": {
    "collapsed": false,
    "deletable": true,
    "editable": true
   },
   "outputs": [
    {
     "name": "stdout",
     "output_type": "stream",
     "text": [
      "The mean time with incongruent words is: 22.0159166667 \n",
      "The median time with incongruent words is: 21.0175 \n",
      "The variance of the sample with incongruent words is: 23.0117570362 \n",
      "The standard deviation of the sample with incongruent words is: 4.79705712247 \n"
     ]
    }
   ],
   "source": [
    "mean_incon = np.mean(incongruent)\n",
    "median_incon = np.median(incongruent) \n",
    "var_incon = np.var(incongruent,ddof=1)\n",
    "stdev_incon = np.std(incongruent,ddof=1)\n",
    "print(\"The mean time with incongruent words is: %s \" % mean_incon)\n",
    "print(\"The median time with incongruent words is: %s \" % median_incon)\n",
    "print(\"The variance of the sample with incongruent words is: %s \" % var_incon)\n",
    "print(\"The standard deviation of the sample with incongruent words is: %s \" % stdev_incon)"
   ]
  },
  {
   "cell_type": "markdown",
   "metadata": {
    "deletable": true,
    "editable": true
   },
   "source": [
    "Question 4: Provide one or two visualizations that show the distribution of the sample data. Write one or two sentences noting what you observe about the plot or plots."
   ]
  },
  {
   "cell_type": "code",
   "execution_count": 6,
   "metadata": {
    "collapsed": false,
    "deletable": true,
    "editable": true
   },
   "outputs": [
    {
     "data": {
      "image/png": "[encoded data removed]",
      "text/plain": [
       "<matplotlib.figure.Figure at 0x98f4eb8>"
      ]
     },
     "metadata": {},
     "output_type": "display_data"
    }
   ],
   "source": [
    "bins = np.arange(5,40,4)\n",
    "stroop_data.hist(bins=bins)\n",
    "plt.show()"
   ]
  },
  {
   "cell_type": "markdown",
   "metadata": {
    "deletable": true,
    "editable": true
   },
   "source": [
    "The above two plots are the histogram plots for congruent and incongruent times. We can infer that the mode of congruent lies in the range 8-15 whereas, the mode of incongruent lies in the range 18-22. By using the graph we MAY claim that the time taken to read the incongruent words increased but we do not have statistical test results to accept the claim. Both the plots look like positively skewed."
   ]
  },
  {
   "cell_type": "code",
   "execution_count": 7,
   "metadata": {
    "collapsed": false,
    "deletable": true,
    "editable": true
   },
   "outputs": [
    {
     "data": {
      "image/png": "[encoded data removed]",
      "text/plain": [
       "<matplotlib.figure.Figure at 0x9c1ea58>"
      ]
     },
     "metadata": {},
     "output_type": "display_data"
    }
   ],
   "source": [
    "diff = map(lambda x,y: x-y,incongruent,congruent)\n",
    "plt.xlim([min(diff)-5, max(diff)+5])\n",
    "plt.hist(diff)\n",
    "plt.show()"
   ]
  },
  {
   "cell_type": "markdown",
   "metadata": {
    "deletable": true,
    "editable": true
   },
   "source": [
    "The above plot is the histogram plot of the time difference between Incogruant and congruant. We had only positive difference which implies that there is an increase in time from congruant to incogrunat task."
   ]
  },
  {
   "cell_type": "code",
   "execution_count": 14,
   "metadata": {
    "collapsed": false,
    "deletable": true,
    "editable": true
   },
   "outputs": [
    {
     "data": {
      "image/png": "[encoded data removed]",
      "text/plain": [
       "<matplotlib.figure.Figure at 0xb3a6198>"
      ]
     },
     "metadata": {},
     "output_type": "display_data"
    }
   ],
   "source": [
    "box = [congruent,incongruent]\n",
    "fig = plt.figure(1, figsize=(9, 6))\n",
    "ax = fig.add_subplot(111)\n",
    "ax.boxplot(box)\n",
    "plt.show()"
   ]
  },
  {
   "cell_type": "markdown",
   "metadata": {
    "deletable": true,
    "editable": true
   },
   "source": [
    "From the above box plot, we tried to understand the minimum, first quartile, median, third quartile and maximum points. The box is the range from first quartile to third quartile. The orange line is the median in each sample. We can also find the outliers in Incongruent case. Those outliers would influence the mean of Incongruent case."
   ]
  },
  {
   "cell_type": "markdown",
   "metadata": {
    "deletable": true,
    "editable": true
   },
   "source": [
    "Question 5: Perform the statistical test and report your results. What is your confidence level and your critical statistic value? Do you reject the null hypothesis or fail to reject it? Come to a conclusion in terms of the experiment task. Did the results match up with your expectations?"
   ]
  },
  {
   "cell_type": "markdown",
   "metadata": {
    "deletable": true,
    "editable": true
   },
   "source": [
    "t-test: "
   ]
  },
  {
   "cell_type": "markdown",
   "metadata": {
    "deletable": true,
    "editable": true
   },
   "source": [
    "μi = 14.051125 "
   ]
  },
  {
   "cell_type": "markdown",
   "metadata": {
    "deletable": true,
    "editable": true
   },
   "source": [
    "μc = 22.0159166667"
   ]
  },
  {
   "cell_type": "markdown",
   "metadata": {
    "deletable": true,
    "editable": true
   },
   "source": [
    "α = 0.05, Sample size = 24 , degrees of freedom = 23. Using t-table the t critical value is 1.714."
   ]
  },
  {
   "cell_type": "markdown",
   "metadata": {
    "deletable": true,
    "editable": true
   },
   "source": [
    "We can perform the similar kind of test that we did for errors in different kind of key boards in our statistics course.\n",
    "\n",
    "Mean of differences = 7.964791667\n",
    "\n",
    "Standard deviation of differences = 4.86482691\n",
    "\n",
    "Standard error of differnces = 0.9930 (SD/sqrt(n))\n",
    "\n",
    "Cohen's D = Mean differences/SD\n",
    "=> 7.964791667/4.86482691 = 1.637219949\n",
    "\n",
    "Confidence interval CI = Mean difference + t critical *(SD/sqrt(n))\n",
    "=[6.262789667 , 9.666793667]\n",
    "\n",
    "t statistic = Mean of differences/SE\n",
    "=> 8.020938235\n",
    "\n",
    "t critical is 1.714. t-statistic is greater than t critical. So we can rejct the null."
   ]
  },
  {
   "cell_type": "markdown",
   "metadata": {
    "deletable": true,
    "editable": true
   },
   "source": [
    "Conclusion:\n",
    "\n",
    "We have previously predicted that there is an increase in time with incogruent words looking at the histogram but we didn't have any statistical evidence to support the prediction. With the above test we can accept the claim that there is an increase in time as null is rejected."
   ]
  },
  {
   "cell_type": "markdown",
   "metadata": {
    "deletable": true,
    "editable": true
   },
   "source": [
    "Question 6: What do you think is responsible for the effects observed? Can you think of an alternative or similar task that would result in a similar effect?"
   ]
  },
  {
   "cell_type": "markdown",
   "metadata": {
    "deletable": true,
    "editable": true
   },
   "source": [
    "Throughout our life we trained our brain to read the words. All of a sudden if we are asked to read the color instead of the word our brain would take time to process the word and read out the color. I believe that kids would do better in stroop test as they start learning the colors first insetad of the words. "
   ]
  },
  {
   "cell_type": "markdown",
   "metadata": {
    "deletable": true,
    "editable": true
   },
   "source": [
    "# References:\n",
    "http://stackoverflow.com/questions/27031706/is-there-a-statistics-module-for-python-2-7\n",
    "\n",
    "https://learnpythonthehardway.org/book/ex5.html\n",
    "\n",
    "http://www.numpy.org/\n",
    "\n",
    "http://stackoverflow.com/questions/28101623/python-pyplot-histogram-adjusting-bin-width-not-number-of-bins\n",
    "\n",
    "http://www.ast.uct.ac.za/~sarblyth/pythonGuide/PythonPlottingBeginnersGuide.pdf\n",
    "\n",
    "http://blog.bharatbhole.com/creating-boxplots-with-matplotlib/\n",
    "\n",
    "http://www.psychology.emory.edu/clinical/bliwise/Tutorials/TOM/meanstests/assump.htm"
   ]
  },
  {
   "cell_type": "code",
   "execution_count": null,
   "metadata": {
    "collapsed": true,
    "deletable": true,
    "editable": true
   },
   "outputs": [],
   "source": []
  }
 ],
 "metadata": {
  "kernelspec": {
   "display_name": "Python 2",
   "language": "python",
   "name": "python2"
  },
  "language_info": {
   "codemirror_mode": {
    "name": "ipython",
    "version": 2
   },
   "file_extension": ".py",
   "mimetype": "text/x-python",
   "name": "python",
   "nbconvert_exporter": "python",
   "pygments_lexer": "ipython2",
   "version": "2.7.13"
  }
 },
 "nbformat": 4,
 "nbformat_minor": 2
}
